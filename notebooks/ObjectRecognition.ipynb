{
 "cells": [
  {
   "cell_type": "code",
   "execution_count": null,
   "metadata": {
    "id": "XCtWgVDawKGk"
   },
   "outputs": [],
   "source": [
    "import os\n",
    "import cv2\n",
    "import numpy as np\n",
    "import matplotlib.pyplot as plt\n",
    "data_path=os.path.dirname(os.getcwd())+\"/data_project\"\n"
   ]
  },
  {
   "cell_type": "code",
   "execution_count": null,
   "metadata": {},
   "outputs": [],
   "source": [
    "train_path = data_path + '/train'\n",
    "img_list = []\n",
    "for i in range(15):\n",
    "    img_name = f'train_{str(i).zfill(2)}.png'  # zfill() pads the number with leading zeros\n",
    "    img_path = os.path.join(train_path, img_name)\n",
    "    if os.path.exists(img_path):\n",
    "        img = cv2.imread(img_path)\n",
    "        img_list.append(img)\n",
    "    else:\n",
    "        print(f'Image {img_name} not found.')"
   ]
  },
  {
   "cell_type": "code",
   "execution_count": null,
   "metadata": {
    "colab": {
     "base_uri": "https://localhost:8080/",
     "height": 654
    },
    "id": "-14wjUTOyiLF",
    "outputId": "a586347b-989d-4c95-9b27-eca79c9a24c8"
   },
   "outputs": [],
   "source": [
    "fig, ax = plt.subplots(3, 5, figsize=(12, 8))  # create a 3x5 grid of subplots\n",
    "for i in range(len(img_list)):\n",
    "    row, col = divmod(i, 5)  # calculate row and column indices\n",
    "    ax[row, col].imshow(img_list[i])\n",
    "    ax[row, col].set_title(f'train_{str(i).zfill(2)}.png')\n",
    "    ax[row, col].axis('off')  # turn off x and y axis values\n",
    "plt.show()"
   ]
  },
  {
   "cell_type": "code",
   "execution_count": null,
   "metadata": {
    "id": "97aD76_E3YNI"
   },
   "outputs": [],
   "source": [
    "def detect_puzzle_pieces(img, min_area=1000, canny_low=100, canny_high=200):\n",
    "    # Convert image to grayscale\n",
    "    gray = cv2.cvtColor(img, cv2.COLOR_BGR2GRAY)\n",
    "\n",
    "    # Apply Gaussian blur\n",
    "    blurred = cv2.GaussianBlur(gray, (5, 5), 0)\n",
    "\n",
    "    # Apply Canny edge detection\n",
    "    edges = cv2.Canny(blurred, canny_low, canny_high)\n",
    "\n",
    "    # Perform morphological transformations\n",
    "    kernel = np.ones((5, 5), np.uint8)\n",
    "    closing = cv2.morphologyEx(edges, cv2.MORPH_CLOSE, kernel, iterations=3)\n",
    "\n",
    "    # Find contours\n",
    "    contours, _ = cv2.findContours(closing, cv2.RETR_EXTERNAL, cv2.CHAIN_APPROX_SIMPLE)\n",
    "\n",
    "    # Filter contours by area\n",
    "    filtered_contours = [cnt for cnt in contours if cv2.contourArea(cnt) > min_area]\n",
    "\n",
    "    return filtered_contours\n",
    "\n",
    "\n",
    "def draw_detected_pieces(img, contours):\n",
    "    # Make a copy of the original image to draw on\n",
    "    img_with_contours = img.copy()\n",
    "\n",
    "    # Draw the contours on the image\n",
    "    cv2.drawContours(img_with_contours, contours, -1, (0, 0, 255), 2)\n",
    "\n",
    "    return img_with_contours"
   ]
  },
  {
   "cell_type": "code",
   "execution_count": null,
   "metadata": {
    "colab": {
     "base_uri": "https://localhost:8080/",
     "height": 1000
    },
    "id": "BS_zB2Gv3yYV",
    "outputId": "78addce9-646e-4d27-dca0-f83c4ec9beb1"
   },
   "outputs": [],
   "source": [
    "# Process each image and detect puzzle pieces\n",
    "for i, img in enumerate(img_list):\n",
    "    contours = detect_puzzle_pieces(img)\n",
    "    img_with_contours = draw_detected_pieces(img, contours)\n",
    "\n",
    "    # Plot the original image and the image with detected pieces\n",
    "    fig, ax = plt.subplots(1, 2, figsize=(10, 5))\n",
    "\n",
    "    ax[0].imshow(cv2.cvtColor(img, cv2.COLOR_BGR2RGB))\n",
    "    ax[0].set_title('Original Image')\n",
    "    ax[0].axis('off')\n",
    "\n",
    "    ax[1].imshow(cv2.cvtColor(img_with_contours, cv2.COLOR_BGR2RGB))\n",
    "    ax[1].set_title('Detected Pieces')\n",
    "    ax[1].axis('off')\n",
    "\n",
    "    plt.show()"
   ]
  }
 ],
 "metadata": {
  "colab": {
   "provenance": []
  },
  "kernelspec": {
   "display_name": "Python 3",
   "name": "python3"
  },
  "language_info": {
   "codemirror_mode": {
    "name": "ipython",
    "version": 3
   },
   "file_extension": ".py",
   "mimetype": "text/x-python",
   "name": "python",
   "nbconvert_exporter": "python",
   "pygments_lexer": "ipython3",
   "version": "3.11.3"
  }
 },
 "nbformat": 4,
 "nbformat_minor": 0
}
