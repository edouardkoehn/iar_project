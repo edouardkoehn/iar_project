{
 "cells": [
  {
   "cell_type": "code",
   "execution_count": null,
   "metadata": {},
   "outputs": [],
   "source": [
    "import iar_project.utils as utils\n",
    "import iar_project.features_extraction as extraction\n",
    "import iar_project.test_clustering as clustering\n",
    "import matplotlib.pyplot as plt\n",
    "import numpy as np\n",
    "from sklearn.cluster import KMeans\n",
    "\n",
    "\n"
   ]
  },
  {
   "cell_type": "code",
   "execution_count": null,
   "metadata": {},
   "outputs": [],
   "source": [
    "# How many images ?\n",
    "nb_im = 12 #to which image\n",
    "k = 0 # from which image\n",
    "seg_img=utils.import_seg_results(k,nb_im)\n",
    "sol_img=utils.import_solution()\n",
    "sol_img=[sol_img]\n",
    "\n"
   ]
  },
  {
   "cell_type": "code",
   "execution_count": null,
   "metadata": {},
   "outputs": [],
   "source": [
    "plot = False\n",
    "\n",
    "clu_img, clu_labels = clustering.clustering(seg_img,4)\n",
    "\n",
    "path_out = utils.check_output_clustering_folder(dataset_used=2)\n",
    "\n",
    "#clustering.save_puzzles(clu_img,path_out)\n",
    "\n",
    "\n",
    "if plot:\n",
    "    clustering.plot_clustering_results(clu_img,sizefig = (14,8),lon=16)    "
   ]
  }
 ],
 "metadata": {
  "kernelspec": {
   "display_name": "iapr_env",
   "language": "python",
   "name": "python3"
  },
  "language_info": {
   "codemirror_mode": {
    "name": "ipython",
    "version": 3
   },
   "file_extension": ".py",
   "mimetype": "text/x-python",
   "name": "python",
   "nbconvert_exporter": "python",
   "pygments_lexer": "ipython3",
   "version": "3.8.1"
  }
 },
 "nbformat": 4,
 "nbformat_minor": 2
}
