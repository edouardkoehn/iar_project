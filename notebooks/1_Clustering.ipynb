{
 "cells": [
  {
   "cell_type": "code",
   "execution_count": null,
   "metadata": {},
   "outputs": [],
   "source": [
    "import iar_project.utils as utils\n",
    "import iar_project.features_extraction as extraction\n",
    "import matplotlib.pyplot as plt\n",
    "import numpy as np\n",
    "\n"
   ]
  },
  {
   "cell_type": "code",
   "execution_count": null,
   "metadata": {},
   "outputs": [],
   "source": [
    "# How many images ?\n",
    "nb_im = 12\n",
    "seg_img=utils.import_seg_results(nb_im)\n",
    "sol_img=utils.import_solution()\n",
    "sol_img=[sol_img]\n",
    "\n"
   ]
  },
  {
   "cell_type": "code",
   "execution_count": null,
   "metadata": {},
   "outputs": [],
   "source": [
    "def clustering(img_test,pca_color,pca_gray,eps_color,eps_gray,min_samp_color,min_samp_gray):\n",
    "    labels = np.zeros(len(img_test))\n",
    "    idx_gray = []\n",
    "    idx_color = []\n",
    "    clustered_puzzle = []\n",
    "    for t,tile in enumerate(img_test):\n",
    "        if (tile[40:80,40:80,0] == tile[40:80,40:80,1]).all():\n",
    "            idx_gray.append(t)\n",
    "        else:\n",
    "            idx_color.append(t)\n",
    "    if idx_color:\n",
    "        seg_color = [[img_test[i][10:-11,10:-11] for i in idx_color]]\n",
    "        features_color = extraction.get_features(seg_color,2)\n",
    "        exp = 0\n",
    "        while np.sum(exp) < 0.8:\n",
    "            pca_color = pca_color+1\n",
    "            ft_2D_color, exp = extraction.ft_PCA(features_color[0],pca_color)\n",
    "        labels_color = extraction.ft_DBSCAN(ft_2D_color,eps_color,min_samp_color)\n",
    "        labels[idx_color] = labels_color\n",
    "        print(exp)\n",
    "\n",
    "    if idx_gray:\n",
    "        seg_gray = [[img_test[i][20:-21,20:-21] for i in idx_gray]]\n",
    "        features_gray = extraction.get_features(seg_gray,1)\n",
    "        exp = 0\n",
    "        while np.sum(exp) < 0.8:\n",
    "            pca_gray = pca_gray+1\n",
    "            ft_2D_gray, exp = extraction.ft_PCA(features_gray[0],pca_gray)\n",
    "        print(exp)\n",
    "        labels_gray = extraction.ft_DBSCAN(ft_2D_gray,eps_gray,min_samp_gray)\n",
    "        if idx_color:\n",
    "            outlier = (labels_gray == -1)\n",
    "            labels[idx_gray] = outlier*labels_gray\n",
    "            normal = (labels_gray != -1)\n",
    "            labels[idx_gray] = normal*(labels_gray + max(np.unique(labels_color))+1)\n",
    "        else:\n",
    "            labels[idx_gray] = labels_gray\n",
    "        \n",
    "        \n",
    "    unique_lab = np.unique(labels)\n",
    "\n",
    "    for l,lab in enumerate(unique_lab):\n",
    "        idx = np.argwhere(labels==lab)\n",
    "        puzzle = []\n",
    "        for i,id in enumerate(idx):\n",
    "            puzzle.append(img_test[id[0]])\n",
    "        clustered_puzzle.append(puzzle)\n",
    "    return clustered_puzzle, unique_lab\n",
    "\n",
    "\n",
    "def plot_clustering_results(clu_img,sizefig,lon):\n",
    "    for imID,img in enumerate(clu_img):\n",
    "        fig, axs = plt.subplots(len(img), lon, figsize=sizefig)\n",
    "        fig.suptitle(f\"Image_{imID}\")\n",
    "        for p,puzzle in enumerate(img):\n",
    "            for i,tile in enumerate(puzzle):\n",
    "                if len(img) == 1:\n",
    "                    axs[i].imshow(tile)\n",
    "                else:\n",
    "                    axs[p,i].imshow(tile)\n",
    "    "
   ]
  },
  {
   "cell_type": "code",
   "execution_count": null,
   "metadata": {},
   "outputs": [],
   "source": [
    "clu_img = []\n",
    "clu_labels = []\n",
    "for imID,img_test in enumerate(seg_img):\n",
    "    clu, clu_lab = clustering(img_test, pca_color=0,pca_gray=0,eps_color=1.5,eps_gray=0.5,min_samp_color=4,min_samp_gray=6)\n",
    "    clu_img.append(clu)\n",
    "    clu_labels.append(clu_lab)\n",
    "\n",
    "plot_clustering_results(clu_img,sizefig = (25,8),lon=25)"
   ]
  },
  {
   "cell_type": "code",
   "execution_count": null,
   "metadata": {},
   "outputs": [],
   "source": [
    "clu_img = []\n",
    "clu_labels = []\n",
    "for imID,img_test in enumerate(sol_img):\n",
    "    clu, clu_lab = clustering(img_test, pca_color=0,pca_gray=0,eps_color=1.5,eps_gray=0.5,min_samp_color=1,min_samp_gray=1)\n",
    "    clu_img.append(clu)\n",
    "    clu_labels.append(clu_lab)\n",
    "\n",
    "plot_clustering_results(clu_img,sizefig=(10,20),lon=7)\n"
   ]
  },
  {
   "cell_type": "code",
   "execution_count": null,
   "metadata": {},
   "outputs": [],
   "source": [
    "    "
   ]
  }
 ],
 "metadata": {
  "kernelspec": {
   "display_name": "iapr_env",
   "language": "python",
   "name": "python3"
  },
  "language_info": {
   "codemirror_mode": {
    "name": "ipython",
    "version": 3
   },
   "file_extension": ".py",
   "mimetype": "text/x-python",
   "name": "python",
   "nbconvert_exporter": "python",
   "pygments_lexer": "ipython3",
   "version": "3.8.1"
  }
 },
 "nbformat": 4,
 "nbformat_minor": 2
}
