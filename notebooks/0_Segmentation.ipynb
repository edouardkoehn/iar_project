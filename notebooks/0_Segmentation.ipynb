{
 "cells": [
  {
   "cell_type": "code",
   "execution_count": null,
   "metadata": {},
   "outputs": [],
   "source": [
    "import iar_project.utils as utils\n",
    "import matplotlib.pyplot as plt\n",
    "import cv2\n",
    "import numpy as np"
   ]
  },
  {
   "attachments": {},
   "cell_type": "markdown",
   "metadata": {},
   "source": [
    "## Load the data"
   ]
  },
  {
   "cell_type": "code",
   "execution_count": null,
   "metadata": {},
   "outputs": [],
   "source": [
    "train_data=utils.import_train()\n",
    "len(train_data)"
   ]
  },
  {
   "cell_type": "code",
   "execution_count": null,
   "metadata": {},
   "outputs": [],
   "source": [
    "train_data_r=[data[:, :, 0] for data in train_data]\n",
    "train_data_g=[data[:, :, 1] for data in train_data]\n",
    "train_data_b=[data[:, :, 2] for data in train_data]\n",
    "train_data_h=[cv2.cvtColor(data, cv2.COLOR_BGR2HSV)[:, :, 0] for data in train_data]\n",
    "train_data_s=[cv2.cvtColor(data, cv2.COLOR_BGR2HSV)[:, :, 1] for data in train_data]\n",
    "train_data_v=[cv2.cvtColor(data, cv2.COLOR_BGR2HSV)[:, :, 2] for data in train_data]\n",
    "train_data_gray=[cv2.cvtColor(data, cv2.COLOR_BGR2GRAY) for data in train_data]"
   ]
  },
  {
   "attachments": {},
   "cell_type": "markdown",
   "metadata": {},
   "source": [
    "## Visualize some data"
   ]
  },
  {
   "cell_type": "code",
   "execution_count": null,
   "metadata": {},
   "outputs": [],
   "source": [
    "#Standard\n",
    "plt.figure(figsize=(15,5))\n",
    "for ind in range(14):\n",
    "    plt.subplot(2,7, ind+1)\n",
    "    plt.imshow(train_data[ind])\n",
    "    plt.axis('off')\n",
    "plt.show()"
   ]
  },
  {
   "cell_type": "code",
   "execution_count": null,
   "metadata": {},
   "outputs": [],
   "source": [
    "#Gray scale \n",
    "plt.figure(figsize=(15,5))\n",
    "for ind in range(14):\n",
    "    plt.subplot(2,7, ind+1)\n",
    "    plt.imshow(train_data_gray[ind], cmap='gray')\n",
    "    plt.axis('off')\n",
    "plt.show()"
   ]
  },
  {
   "cell_type": "code",
   "execution_count": null,
   "metadata": {},
   "outputs": [],
   "source": [
    "#Hue\n",
    "plt.figure(figsize=(15,5))\n",
    "for ind in range(14):\n",
    "    plt.subplot(2,7, ind+1)\n",
    "    plt.imshow(train_data_h[ind], cmap='gray')\n",
    "    plt.axis('off')\n",
    "plt.show()"
   ]
  },
  {
   "cell_type": "code",
   "execution_count": null,
   "metadata": {},
   "outputs": [],
   "source": [
    "#S\n",
    "plt.figure(figsize=(15,5))\n",
    "for ind in range(14):\n",
    "    plt.subplot(2,7, ind+1)\n",
    "    plt.imshow(train_data_s[ind], cmap='gray')\n",
    "    plt.axis('off')\n",
    "plt.show()"
   ]
  },
  {
   "cell_type": "code",
   "execution_count": null,
   "metadata": {},
   "outputs": [],
   "source": [
    "#V\n",
    "plt.figure(figsize=(15,5))\n",
    "for ind in range(14):\n",
    "    plt.subplot(2,7, ind+1)\n",
    "    plt.imshow(train_data_v[ind], cmap='gray')\n",
    "    plt.axis('off')\n",
    "plt.show()"
   ]
  },
  {
   "cell_type": "code",
   "execution_count": null,
   "metadata": {},
   "outputs": [],
   "source": [
    "#Red\n",
    "plt.figure(figsize=(15,5))\n",
    "for ind in range(14):\n",
    "    plt.subplot(2,7, ind+1)\n",
    "    plt.imshow(train_data_r[ind], cmap='gray')\n",
    "    plt.axis('off')\n",
    "plt.show()"
   ]
  },
  {
   "cell_type": "code",
   "execution_count": null,
   "metadata": {},
   "outputs": [],
   "source": [
    "#Green\n",
    "plt.figure(figsize=(15,5))\n",
    "for ind in range(14):\n",
    "    plt.subplot(2,7, ind+1)\n",
    "    plt.imshow(train_data_g[ind], cmap='gray')\n",
    "    plt.axis('off')\n",
    "plt.show()"
   ]
  },
  {
   "cell_type": "code",
   "execution_count": null,
   "metadata": {},
   "outputs": [],
   "source": [
    "#Blue\n",
    "plt.figure(figsize=(15,5))\n",
    "for ind in range(14):\n",
    "    plt.subplot(2,7, ind+1)\n",
    "    plt.imshow(train_data_b[ind], cmap='gray')\n",
    "    plt.axis('off')\n",
    "plt.show()"
   ]
  },
  {
   "attachments": {},
   "cell_type": "markdown",
   "metadata": {},
   "source": [
    "## Histogram of the images"
   ]
  },
  {
   "cell_type": "code",
   "execution_count": null,
   "metadata": {},
   "outputs": [],
   "source": [
    "plt.hist(train_data_r[0].ravel(), bins=256, density=True, alpha=0.5, color='red')\n",
    "plt.hist(train_data_g[0].ravel(), bins=256, density=True,alpha=0.5, color='green')\n",
    "plt.hist(train_data_b[0].ravel(), bins=256, density=True,alpha=0.5,color='blue')\n",
    "plt.show()\n",
    "print(np.std(train_data_r[0].ravel()))\n",
    "print(np.std(train_data_g[0].ravel()))\n",
    "print(np.std(train_data_b[0].ravel()))"
   ]
  },
  {
   "cell_type": "code",
   "execution_count": null,
   "metadata": {},
   "outputs": [],
   "source": [
    "plt.figure(figsize=(20,5))\n",
    "for ind in range(14):\n",
    "    plt.subplot(2,7, ind+1)\n",
    "    plt.hist(train_data_h[ind].ravel(),bins=256,alpha=0.5,color='red', density=True)\n"
   ]
  },
  {
   "attachments": {},
   "cell_type": "markdown",
   "metadata": {},
   "source": [
    "## Threshold"
   ]
  },
  {
   "cell_type": "code",
   "execution_count": null,
   "metadata": {},
   "outputs": [],
   "source": [
    "def plot_mask(mask, title):\n",
    "    plt.figure(figsize=(20,7))\n",
    "    plt.suptitle(title)\n",
    "    for img, mask,ind in zip(train_data_gray, mask, np.arange(15)):\n",
    "        plt.title(f'img {ind}')\n",
    "        plt.subplot(2,8, ind+1)\n",
    "        plt.imshow(img*mask, cmap='gray')\n",
    "        plt.axis('off')\n",
    "\n",
    "    plt.show()"
   ]
  },
  {
   "cell_type": "code",
   "execution_count": null,
   "metadata": {},
   "outputs": [],
   "source": [
    "threshold_h_0=[cv2.threshold(img,0,255,cv2.THRESH_BINARY_INV)[1] for img in train_data_h]\n",
    "mask_clean_0 = [utils.draw_contours(img,utils.clean_mask(img,min_area=15000, max_area=16000)) for img in threshold_h_0]\n",
    "\n",
    "plot_mask(mask_clean_0, 'Mask 0')"
   ]
  },
  {
   "cell_type": "code",
   "execution_count": null,
   "metadata": {},
   "outputs": [],
   "source": [
    "threshold_v_100=[cv2.threshold(img,127,255,cv2.THRESH_BINARY)[1] for img in train_data_v]\n",
    "kernel = np.ones((5, 5), np.uint8)\n",
    "threshold_v_100 = [cv2.morphologyEx(img, cv2.MORPH_CLOSE, kernel, iterations=3) for img in threshold_v_100]\n",
    "mask_clean_1=[utils.draw_contours(img,utils.clean_mask(img,min_area=15000, max_area=16000)) for img in threshold_v_100]\n",
    "\n",
    "plot_mask(mask_clean_1, 'Mask 1')"
   ]
  },
  {
   "cell_type": "code",
   "execution_count": null,
   "metadata": {},
   "outputs": [],
   "source": [
    "# Threshold on saturation \n",
    "threshold_h_28=[cv2.threshold(img,28,255,cv2.THRESH_BINARY)[1] for img in train_data_h]\n",
    "kernel = np.ones((5, 5), np.uint8)\n",
    "threshold_h_28 = [cv2.morphologyEx(img, cv2.MORPH_CLOSE, kernel, iterations=3) for img in threshold_h_28]\n",
    "mask_clean_2=[utils.draw_contours(img,utils.clean_mask(img,min_area=15000, max_area=16000)) for img in threshold_h_28]\n",
    "\n",
    "plot_mask(mask_clean_2, 'Mask 2')"
   ]
  },
  {
   "cell_type": "code",
   "execution_count": null,
   "metadata": {},
   "outputs": [],
   "source": [
    "#Combine the masks\n",
    "mask=[]\n",
    "for i,j,k in zip(mask_clean_0,mask_clean_1,mask_clean_2):\n",
    "    mask.append(i+j+k)\n",
    "plot_mask(mask, 'Mask full')"
   ]
  },
  {
   "cell_type": "code",
   "execution_count": null,
   "metadata": {},
   "outputs": [],
   "source": []
  }
 ],
 "metadata": {
  "kernelspec": {
   "display_name": "iar_project",
   "language": "python",
   "name": "python3"
  },
  "language_info": {
   "codemirror_mode": {
    "name": "ipython",
    "version": 3
   },
   "file_extension": ".py",
   "mimetype": "text/x-python",
   "name": "python",
   "nbconvert_exporter": "python",
   "pygments_lexer": "ipython3",
   "version": "3.11.3"
  }
 },
 "nbformat": 4,
 "nbformat_minor": 2
}
