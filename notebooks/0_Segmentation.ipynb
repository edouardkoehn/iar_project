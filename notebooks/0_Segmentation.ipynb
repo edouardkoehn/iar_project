{
 "cells": [
  {
   "cell_type": "code",
   "execution_count": null,
   "metadata": {},
   "outputs": [],
   "source": [
    "import iar_project.utils as utils\n",
    "import iar_project.segmentation as segmentation\n",
    "import matplotlib.pyplot as plt"
   ]
  },
  {
   "attachments": {},
   "cell_type": "markdown",
   "metadata": {},
   "source": [
    "## Load the data"
   ]
  },
  {
   "cell_type": "code",
   "execution_count": null,
   "metadata": {},
   "outputs": [],
   "source": [
    "train_data=utils.import_train2()\n"
   ]
  },
  {
   "attachments": {},
   "cell_type": "markdown",
   "metadata": {},
   "source": [
    "## Segmentation masks\n",
    "\n",
    "Our approach is to use 9 different filters and to sum them to obtain a complet mask"
   ]
  },
  {
   "cell_type": "code",
   "execution_count": null,
   "metadata": {},
   "outputs": [],
   "source": [
    "#Filter1\n",
    "M1 = segmentation.filter_1(train_data)\n",
    "segmentation.plot_mask2(train_data,M1)"
   ]
  },
  {
   "cell_type": "code",
   "execution_count": null,
   "metadata": {},
   "outputs": [],
   "source": [
    "M2 = segmentation.filter_2(train_data)\n",
    "segmentation.plot_mask2(train_data,M2)"
   ]
  },
  {
   "cell_type": "code",
   "execution_count": null,
   "metadata": {},
   "outputs": [],
   "source": [
    "M3= segmentation.filter_3(train_data)\n",
    "segmentation.plot_mask2(train_data,M3)"
   ]
  },
  {
   "cell_type": "code",
   "execution_count": null,
   "metadata": {},
   "outputs": [],
   "source": [
    "M4= segmentation.filter_4(train_data)\n",
    "segmentation.plot_mask2(train_data,M4)"
   ]
  },
  {
   "cell_type": "code",
   "execution_count": null,
   "metadata": {},
   "outputs": [],
   "source": [
    "M5= segmentation.filter_5(train_data)\n",
    "segmentation.plot_mask2(train_data,M5)"
   ]
  },
  {
   "cell_type": "code",
   "execution_count": null,
   "metadata": {},
   "outputs": [],
   "source": [
    "M6= segmentation.filter_6(train_data)\n",
    "segmentation.plot_mask2(train_data,M6)"
   ]
  },
  {
   "cell_type": "code",
   "execution_count": null,
   "metadata": {},
   "outputs": [],
   "source": [
    "M7= segmentation.filter_7(train_data)\n",
    "segmentation.plot_mask2(train_data,M7)"
   ]
  },
  {
   "cell_type": "code",
   "execution_count": null,
   "metadata": {},
   "outputs": [],
   "source": [
    "M8=segmentation.filter_8(train_data)\n",
    "segmentation.plot_mask2(train_data,M8)"
   ]
  },
  {
   "cell_type": "code",
   "execution_count": null,
   "metadata": {},
   "outputs": [],
   "source": [
    "M9=segmentation.filter_9(train_data)\n",
    "segmentation.plot_mask2(train_data,M9)"
   ]
  },
  {
   "cell_type": "code",
   "execution_count": null,
   "metadata": {},
   "outputs": [],
   "source": [
    "#Combine the masks\n",
    "masks=[]\n",
    "for f1,f2,f3,f4,f5,f6,f7,f8,f9 in zip(M1,M2,M3,M4,M5,M6,M7,M8,M9):\n",
    "    masks.append(f1+f2+f3+f4+f5+f6+f7+f8+f9)\n",
    "\n",
    "segmentation.plot_mask2(train_data,masks)"
   ]
  },
  {
   "cell_type": "code",
   "execution_count": null,
   "metadata": {},
   "outputs": [],
   "source": [
    "segmentation.plot_comparison(train_data,masks)"
   ]
  },
  {
   "attachments": {},
   "cell_type": "markdown",
   "metadata": {},
   "source": [
    "## Export the tiles"
   ]
  },
  {
   "cell_type": "code",
   "execution_count": null,
   "metadata": {},
   "outputs": [],
   "source": [
    "import numpy as np\n",
    "for img, mask, ind in zip(train_data, masks,np.arange(12)):\n",
    "    segmentation.extract_segemented_object(img,mask,ind)"
   ]
  }
 ],
 "metadata": {
  "kernelspec": {
   "display_name": "iar_project",
   "language": "python",
   "name": "python3"
  },
  "language_info": {
   "codemirror_mode": {
    "name": "ipython",
    "version": 3
   },
   "file_extension": ".py",
   "mimetype": "text/x-python",
   "name": "python",
   "nbconvert_exporter": "python",
   "pygments_lexer": "ipython3",
   "version": "3.8.1"
  }
 },
 "nbformat": 4,
 "nbformat_minor": 2
}
