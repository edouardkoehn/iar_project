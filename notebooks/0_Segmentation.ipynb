{
 "cells": [
  {
   "cell_type": "code",
   "execution_count": null,
   "metadata": {},
   "outputs": [],
   "source": [
    "import iar_project.utils as utils\n",
    "import iar_project.segmentation as segmentation\n",
    "import matplotlib.pyplot as plt\n",
    "import cv2\n",
    "import numpy as np"
   ]
  },
  {
   "attachments": {},
   "cell_type": "markdown",
   "metadata": {},
   "source": [
    "## Load the data"
   ]
  },
  {
   "cell_type": "code",
   "execution_count": null,
   "metadata": {},
   "outputs": [],
   "source": [
    "train_data=utils.import_train2()\n"
   ]
  },
  {
   "cell_type": "code",
   "execution_count": null,
   "metadata": {},
   "outputs": [],
   "source": [
    "train_data_r=[data[:, :, 0] for data in train_data]\n",
    "train_data_g=[data[:, :, 1] for data in train_data]\n",
    "train_data_b=[data[:, :, 2] for data in train_data]\n",
    "train_data_h=[cv2.cvtColor(data, cv2.COLOR_BGR2HSV)[:, :, 0] for data in train_data]\n",
    "train_data_s=[cv2.cvtColor(data, cv2.COLOR_BGR2HSV)[:, :, 1] for data in train_data]\n",
    "train_data_v=[cv2.cvtColor(data, cv2.COLOR_BGR2HSV)[:, :, 2] for data in train_data]\n",
    "train_data_gray=[cv2.cvtColor(data, cv2.COLOR_BGR2GRAY) for data in train_data]"
   ]
  },
  {
   "attachments": {},
   "cell_type": "markdown",
   "metadata": {},
   "source": [
    "## Visualize some data"
   ]
  },
  {
   "cell_type": "code",
   "execution_count": null,
   "metadata": {},
   "outputs": [],
   "source": [
    "#Standard\n",
    "plt.figure(figsize=(15,5))\n",
    "for ind in range(14):\n",
    "    plt.subplot(2,7, ind+1)\n",
    "    plt.imshow(train_data[ind])\n",
    "    plt.axis('off')\n",
    "plt.show()"
   ]
  },
  {
   "cell_type": "code",
   "execution_count": null,
   "metadata": {},
   "outputs": [],
   "source": [
    "#Gray scale \n",
    "plt.figure(figsize=(15,5))\n",
    "for ind in range(14):\n",
    "    plt.subplot(2,7, ind+1)\n",
    "    plt.imshow(train_data_gray[ind], cmap='gray')\n",
    "    plt.axis('off')\n",
    "plt.show()"
   ]
  },
  {
   "cell_type": "code",
   "execution_count": null,
   "metadata": {},
   "outputs": [],
   "source": [
    "#Hue\n",
    "plt.figure(figsize=(15,5))\n",
    "for ind in range(14):\n",
    "    plt.subplot(2,7, ind+1)\n",
    "    plt.imshow(train_data_h[ind], cmap='gray')\n",
    "    plt.axis('off')\n",
    "plt.show()"
   ]
  },
  {
   "cell_type": "code",
   "execution_count": null,
   "metadata": {},
   "outputs": [],
   "source": [
    "#S\n",
    "plt.figure(figsize=(15,5))\n",
    "for ind in range(14):\n",
    "    plt.subplot(2,7, ind+1)\n",
    "    plt.imshow(train_data_s[ind], cmap='gray')\n",
    "    plt.axis('off')\n",
    "plt.show()"
   ]
  },
  {
   "cell_type": "code",
   "execution_count": null,
   "metadata": {},
   "outputs": [],
   "source": [
    "#V\n",
    "plt.figure(figsize=(15,5))\n",
    "for ind in range(14):\n",
    "    plt.subplot(2,7, ind+1)\n",
    "    plt.imshow(train_data_v[ind], cmap='gray')\n",
    "    plt.axis('off')\n",
    "plt.show()"
   ]
  },
  {
   "cell_type": "code",
   "execution_count": null,
   "metadata": {},
   "outputs": [],
   "source": [
    "#Red\n",
    "plt.figure(figsize=(15,5))\n",
    "for ind in range(14):\n",
    "    plt.subplot(2,7, ind+1)\n",
    "    plt.imshow(train_data_r[ind], cmap='gray')\n",
    "    plt.axis('off')\n",
    "plt.show()"
   ]
  },
  {
   "cell_type": "code",
   "execution_count": null,
   "metadata": {},
   "outputs": [],
   "source": [
    "#Green\n",
    "plt.figure(figsize=(15,5))\n",
    "for ind in range(14):\n",
    "    plt.subplot(2,7, ind+1)\n",
    "    plt.imshow(train_data_g[ind], cmap='gray')\n",
    "    plt.axis('off')\n",
    "plt.show()"
   ]
  },
  {
   "cell_type": "code",
   "execution_count": null,
   "metadata": {},
   "outputs": [],
   "source": [
    "#Blue\n",
    "plt.figure(figsize=(15,5))\n",
    "for ind in range(14):\n",
    "    plt.subplot(2,7, ind+1)\n",
    "    plt.imshow(train_data_b[ind], cmap='gray')\n",
    "    plt.axis('off')\n",
    "plt.show()"
   ]
  },
  {
   "attachments": {},
   "cell_type": "markdown",
   "metadata": {},
   "source": [
    "## Histogram of the images"
   ]
  },
  {
   "cell_type": "code",
   "execution_count": null,
   "metadata": {},
   "outputs": [],
   "source": [
    "plt.hist(train_data_r[0].ravel(), bins=256, density=True, alpha=0.5, color='red')\n",
    "plt.hist(train_data_g[0].ravel(), bins=256, density=True,alpha=0.5, color='green')\n",
    "plt.hist(train_data_b[0].ravel(), bins=256, density=True,alpha=0.5,color='blue')\n",
    "plt.show()\n",
    "print(np.std(train_data_r[0].ravel()))\n",
    "print(np.std(train_data_g[0].ravel()))\n",
    "print(np.std(train_data_b[0].ravel()))"
   ]
  },
  {
   "cell_type": "code",
   "execution_count": null,
   "metadata": {},
   "outputs": [],
   "source": [
    "plt.figure(figsize=(20,5))\n",
    "for ind in range(14):\n",
    "    plt.subplot(2,7, ind+1)\n",
    "    plt.hist(train_data_h[ind].ravel(),bins=256,alpha=0.5,color='red', density=True)\n"
   ]
  },
  {
   "attachments": {},
   "cell_type": "markdown",
   "metadata": {},
   "source": [
    "## Threshold"
   ]
  },
  {
   "cell_type": "code",
   "execution_count": null,
   "metadata": {},
   "outputs": [],
   "source": [
    "def plot_mask(mask, title):\n",
    "    plt.figure(figsize=(20,7))\n",
    "    plt.suptitle(title)\n",
    "    for img, mask,ind in zip(train_data_gray, mask, np.arange(15)):\n",
    "        plt.title(f'img {ind}')\n",
    "        plt.subplot(2,8, ind+1)\n",
    "        plt.imshow(img*mask, cmap='gray')\n",
    "        plt.axis('off')\n",
    "\n",
    "    plt.show()"
   ]
  },
  {
   "cell_type": "code",
   "execution_count": null,
   "metadata": {},
   "outputs": [],
   "source": [
    "#Filter1\n",
    "mask_clean_1 = segmentation.filter_1(train_data)\n",
    "segmentation.plot_mask2(train_data,mask_clean_1)"
   ]
  },
  {
   "cell_type": "code",
   "execution_count": null,
   "metadata": {},
   "outputs": [],
   "source": [
    "mask_clean_2 = segmentation.filter_2(train_data)\n",
    "segmentation.plot_mask2(train_data,mask_clean_2)"
   ]
  },
  {
   "cell_type": "code",
   "execution_count": null,
   "metadata": {},
   "outputs": [],
   "source": [
    "mask_clean_3= segmentation.filter_3(train_data)\n",
    "segmentation.plot_mask2(train_data,mask_clean_3)"
   ]
  },
  {
   "cell_type": "code",
   "execution_count": null,
   "metadata": {},
   "outputs": [],
   "source": [
    "mask_clean_4= segmentation.filter_4(train_data)\n",
    "segmentation.plot_mask2(train_data,mask_clean_4)"
   ]
  },
  {
   "cell_type": "code",
   "execution_count": null,
   "metadata": {},
   "outputs": [],
   "source": [
    "mask_clean_5= segmentation.filter_5(train_data)\n",
    "segmentation.plot_mask2(train_data,mask_clean_5)"
   ]
  },
  {
   "cell_type": "code",
   "execution_count": null,
   "metadata": {},
   "outputs": [],
   "source": [
    "mask_clean_6= segmentation.filter_6(train_data)\n",
    "segmentation.plot_mask2(train_data,mask_clean_6)"
   ]
  },
  {
   "cell_type": "code",
   "execution_count": null,
   "metadata": {},
   "outputs": [],
   "source": [
    "mask_clean_7= segmentation.filter_7(train_data)\n",
    "segmentation.plot_mask2(train_data,mask_clean_7)"
   ]
  },
  {
   "cell_type": "code",
   "execution_count": null,
   "metadata": {},
   "outputs": [],
   "source": [
    "#Combine the masks\n",
    "masks=[]\n",
    "for i,j,k,l,m,n,o in zip(mask_clean_1,mask_clean_2,mask_clean_3,mask_clean_4,mask_clean_5,mask_clean_6,mask_clean_7):\n",
    "    masks.append(i+j+k+l+m+n+o)\n",
    "\n",
    "segmentation.plot_mask(train_data,masks)"
   ]
  },
  {
   "attachments": {},
   "cell_type": "markdown",
   "metadata": {},
   "source": [
    "## Export the tiles"
   ]
  },
  {
   "cell_type": "code",
   "execution_count": null,
   "metadata": {},
   "outputs": [],
   "source": [
    "for img, mask, ind in zip(train_data, masks,np.arange(15)):\n",
    "    segmentation.extract_segemented_object(img,mask,ind)\n",
    "                          "
   ]
  },
  {
   "cell_type": "code",
   "execution_count": null,
   "metadata": {},
   "outputs": [],
   "source": []
  }
 ],
 "metadata": {
  "kernelspec": {
   "display_name": "iar_project",
   "language": "python",
   "name": "python3"
  },
  "language_info": {
   "codemirror_mode": {
    "name": "ipython",
    "version": 3
   },
   "file_extension": ".py",
   "mimetype": "text/x-python",
   "name": "python",
   "nbconvert_exporter": "python",
   "pygments_lexer": "ipython3",
   "version": "3.11.3"
  }
 },
 "nbformat": 4,
 "nbformat_minor": 2
}
